{
  "nbformat": 4,
  "nbformat_minor": 0,
  "metadata": {
    "colab": {
      "name": "Lung-nodule-malignancy.ipynb",
      "provenance": [],
      "collapsed_sections": [],
      "mount_file_id": "1Ta1bK3czZlYoldsjdcpN8WXhniy7UWqn",
      "authorship_tag": "ABX9TyMfYKMt1teQG8pIUdHEU5rM",
      "include_colab_link": true
    },
    "kernelspec": {
      "name": "python3",
      "display_name": "Python 3"
    },
    "language_info": {
      "name": "python"
    },
    "accelerator": "GPU"
  },
  "cells": [
    {
      "cell_type": "markdown",
      "metadata": {
        "id": "view-in-github",
        "colab_type": "text"
      },
      "source": [
        "<a href=\"https://colab.research.google.com/github/galib96/lung-nodule-malignancy/blob/main/Lung_nodule_malignancy.ipynb\" target=\"_parent\"><img src=\"https://colab.research.google.com/assets/colab-badge.svg\" alt=\"Open In Colab\"/></a>"
      ]
    },
    {
      "cell_type": "code",
      "execution_count": 33,
      "metadata": {
        "id": "Xk-l8ayIBjTN"
      },
      "outputs": [],
      "source": [
        "import pandas as pd\n",
        "import numpy as np\n",
        "import matplotlib.pyplot as plt\n",
        "import seaborn as sns\n",
        "%matplotlib inline\n",
        "\n",
        "import h5py\n",
        "from sklearn.model_selection import train_test_split\n",
        "from sklearn.metrics import accuracy_score, f1_score, confusion_matrix, precision_score, recall_score, plot_confusion_matrix\n",
        "import tensorflow as tf\n",
        "from tensorflow import keras\n",
        "from keras.models import Sequential, Model\n",
        "from keras.layers import Dense, Dropout, Flatten, Activation, GlobalAveragePooling2D, ZeroPadding2D, Add\n",
        "from keras.layers import BatchNormalization, AveragePooling2D, Conv2D, MaxPooling2D, Input, ReLU\n",
        "from keras.callbacks import EarlyStopping, LambdaCallback\n",
        "from tensorflow.keras.optimizers import Adam"
      ]
    },
    {
      "cell_type": "code",
      "source": [
        "# importing dataset\n",
        "img_data = h5py.File(\"/content/drive/MyDrive/Colab Notebooks/Lung Nodule Maliganancy/all_patches.hdf5\",'r')\n",
        "print(list(img_data.keys()))"
      ],
      "metadata": {
        "colab": {
          "base_uri": "https://localhost:8080/"
        },
        "id": "uXQSsFDcB_yi",
        "outputId": "ab17b0da-2043-45e6-82f4-0d428476133f"
      },
      "execution_count": 3,
      "outputs": [
        {
          "output_type": "stream",
          "name": "stdout",
          "text": [
            "['ct_slices', 'slice_class']\n"
          ]
        }
      ]
    },
    {
      "cell_type": "code",
      "source": [
        "# visualizing image\n",
        "ct_slices = img_data['ct_slices']\n",
        "slice_class = img_data['slice_class']\n",
        "\n",
        "plt.imshow(ct_slices[0], interpolation='nearest',cmap='gray')\n",
        "plt.show()"
      ],
      "metadata": {
        "colab": {
          "base_uri": "https://localhost:8080/",
          "height": 268
        },
        "id": "9a4f0rQbEBoL",
        "outputId": "acc72187-fc87-4778-8ec4-669564901bc6"
      },
      "execution_count": 4,
      "outputs": [
        {
          "output_type": "display_data",
          "data": {
            "text/plain": [
              "<Figure size 432x288 with 1 Axes>"
            ],
            "image/png": "[encoded data removed]"
          },
          "metadata": {
            "needs_background": "light"
          }
        }
      ]
    },
    {
      "cell_type": "code",
      "source": [
        "print(ct_slices.shape)\n",
        "print(slice_class.shape)\n",
        "print(ct_slices[0].min())"
      ],
      "metadata": {
        "colab": {
          "base_uri": "https://localhost:8080/"
        },
        "id": "-2U0YuKIEslp",
        "outputId": "02554f69-685e-40fb-8a7f-0f6d02f47121"
      },
      "execution_count": 5,
      "outputs": [
        {
          "output_type": "stream",
          "name": "stdout",
          "text": [
            "(6691, 64, 64)\n",
            "(6691, 1)\n",
            "-1017.0\n"
          ]
        }
      ]
    },
    {
      "cell_type": "code",
      "source": [
        "ct_slices = np.array(ct_slices)\n",
        "slice_class = np.array(slice_class)\n",
        "ct_slices = ct_slices.reshape(6691, 64, 64, 1)\n",
        "\n",
        "# splitting data into train, validation and test set\n",
        "x_train, x_t, y_train, y_t = train_test_split(ct_slices, slice_class, test_size = 0.3, random_state=11)\n",
        "x_val, x_test, y_val, y_test = train_test_split(x_t, y_t, test_size = 0.5, random_state=11)\n",
        "\n",
        "y_train = keras.utils.to_categorical(y_train, num_classes=2)\n",
        "y_val = keras.utils.to_categorical(y_val, num_classes=2)\n",
        "y_test = keras.utils.to_categorical(y_test, num_classes=2)\n",
        "\n",
        "print(x_train.shape)\n",
        "print(x_test.shape)\n",
        "print(x_val.shape)\n",
        "print(y_train.shape)\n",
        "print(y_test.shape)\n",
        "print(y_val.shape)"
      ],
      "metadata": {
        "colab": {
          "base_uri": "https://localhost:8080/"
        },
        "id": "Ft8DQYWFMWSb",
        "outputId": "8fb53f82-488b-4685-9add-a8c35a3ed764"
      },
      "execution_count": 20,
      "outputs": [
        {
          "output_type": "stream",
          "name": "stdout",
          "text": [
            "(4683, 64, 64, 1)\n",
            "(1004, 64, 64, 1)\n",
            "(1004, 64, 64, 1)\n",
            "(4683, 2)\n",
            "(1004, 2)\n",
            "(1004, 2)\n"
          ]
        }
      ]
    },
    {
      "cell_type": "code",
      "source": [
        "def identity_block(X, f, filters, stage, block):\n",
        "    # defining names\n",
        "    conv_name = 'res'+str(stage)+block+'_branch'\n",
        "    bn_name = 'bn'+str(stage)+block+'_branch'\n",
        "\n",
        "    # retrieve filters\n",
        "    f1, f2, f3 = filters\n",
        "\n",
        "    # save the input values\n",
        "    X_skip = X\n",
        "\n",
        "    # 1st component of main path\n",
        "    X = Conv2D(filters=f1, kernel_size=(1,1), strides=(1,1), padding='valid', name=conv_name+'2a')(X)\n",
        "    X = BatchNormalization(name=bn_name+'2a')(X)\n",
        "    X = Activation('relu')(X)\n",
        "\n",
        "    # 2nd component of main path\n",
        "    X = Conv2D(filters=f2, kernel_size=(f,f), strides=(1,1), padding='same', name=conv_name+'2b')(X)\n",
        "    X = BatchNormalization(name=bn_name+'2b')(X)\n",
        "    X = Activation('relu')(X)\n",
        "\n",
        "    # 3rd component of main path\n",
        "    X = Conv2D(filters=f3, kernel_size=(1,1), strides=(1,1), padding='valid', name=conv_name+'2c')(X)\n",
        "    X = BatchNormalization(name=bn_name+'2c')(X)\n",
        "    \n",
        "    # Final Step\n",
        "    X = Add()([X, X_skip])\n",
        "    X = Activation('relu')(X)\n",
        "\n",
        "    return X"
      ],
      "metadata": {
        "id": "00WX0JVMkjrP"
      },
      "execution_count": 7,
      "outputs": []
    },
    {
      "cell_type": "code",
      "source": [
        "def conv_block(X, f, filters, stage, block, s=2):\n",
        "    # defining names\n",
        "    conv_name = 'res'+str(stage)+block+'_branch'\n",
        "    bn_name = 'bn'+str(stage)+block+'_branch'\n",
        "\n",
        "    # retrieve filters\n",
        "    f1, f2, f3 = filters\n",
        "\n",
        "    # save the input values\n",
        "    X_skip = X\n",
        "\n",
        "    # 1st component of main path\n",
        "    X = Conv2D(filters=f1, kernel_size=(1,1), strides=(s,s), padding='valid', name=conv_name+'2a')(X)\n",
        "    X = BatchNormalization(name=bn_name+'2a')(X)\n",
        "    X = Activation('relu')(X)\n",
        "\n",
        "    # 2nd component of main path\n",
        "    X = Conv2D(filters=f2, kernel_size=(f,f), strides=(1,1), padding='same', name=conv_name+'2b')(X)\n",
        "    X = BatchNormalization(name=bn_name+'2b')(X)\n",
        "    X = Activation('relu')(X)\n",
        "\n",
        "    # 3rd component of main path\n",
        "    X = Conv2D(filters=f3, kernel_size=(1,1), strides=(1,1), padding='valid', name=conv_name+'2c')(X)\n",
        "    X = BatchNormalization(name=bn_name+'2c')(X)\n",
        "\n",
        "    # res skip connection path\n",
        "    X_skip = Conv2D(filters=f3, kernel_size=(1,1), strides=(s,s), padding='valid', name=conv_name+'1')(X_skip)\n",
        "    X_skip = BatchNormalization(name=bn_name+'1')(X_skip)\n",
        "    \n",
        "    # Final Step\n",
        "    X = Add()([X, X_skip])\n",
        "    X = Activation('relu')(X)\n",
        "\n",
        "    return X"
      ],
      "metadata": {
        "id": "BJRi1-YDnUkh"
      },
      "execution_count": 8,
      "outputs": []
    },
    {
      "cell_type": "code",
      "source": [
        "def ResNet(input_shape = (64, 64, 1), classes = 2):\n",
        "    \n",
        "    # Define the input as a tensor with shape input_shape\n",
        "    X_input = Input(input_shape)\n",
        "\n",
        "    \n",
        "    # Zero-Padding\n",
        "    X = ZeroPadding2D((3, 3))(X_input)\n",
        "    \n",
        "    # Stage 1\n",
        "    X = Conv2D(64, (7, 7), strides = (2, 2), name = 'conv1')(X)\n",
        "    X = BatchNormalization(axis = 3, name = 'bn_conv1')(X)\n",
        "    X = Activation('relu')(X)\n",
        "    X = MaxPooling2D((3, 3), strides=(2, 2))(X)\n",
        "\n",
        "    # Stage 2\n",
        "    X = conv_block(X, f = 3, filters = [64, 64, 256], stage = 2, block='a', s = 1)\n",
        "    X = identity_block(X, 3, [64, 64, 256], stage=2, block='b')\n",
        "    X = identity_block(X, 3, [64, 64, 256], stage=2, block='c')\n",
        "    X = identity_block(X, 3, [64, 64, 256], stage=2, block='d')\n",
        "\n",
        "    # Stage 3\n",
        "    X = conv_block(X, f=3, filters=[128, 128, 512], stage=3, block='a', s=2)\n",
        "    X = identity_block(X, 3, [128, 128, 512], stage=3, block='b')\n",
        "    \n",
        "\n",
        "    # Stage 4\n",
        "    X = conv_block(X, f=3, filters=[256, 256, 1024], stage=4, block='a', s=2)\n",
        "    X = identity_block(X, 3, [256, 256, 1024], stage=4, block='b')\n",
        "\n",
        "    # AVGPOOL\n",
        "    X = AveragePooling2D(pool_size=(2,2), padding='same')(X)\n",
        "\n",
        "    # Output layer\n",
        "    X = Flatten()(X)\n",
        "    X = Dense(classes, activation='softmax', name='fc' + str(classes))(X)\n",
        "    \n",
        "    \n",
        "    # Create model\n",
        "    model = Model(inputs = X_input, outputs = X, name='ResNet')\n",
        "\n",
        "    return model"
      ],
      "metadata": {
        "id": "9MvI1a3D00P7"
      },
      "execution_count": 19,
      "outputs": []
    },
    {
      "cell_type": "code",
      "source": [
        "# Creating function to get a untrained model from tensorflow\n",
        "tf.keras.backend.clear_session()\n",
        "tf.random.set_seed(11)\n",
        "\n",
        "def get_model():\n",
        "  model = ResNet()\n",
        "  \n",
        "  model.compile(\n",
        "        loss='categorical_crossentropy',\n",
        "        optimizer='Adam',\n",
        "        metrics=['accuracy']\n",
        "    )\n",
        "  \n",
        "  return model\n",
        "\n",
        "summary = get_model().summary()\n",
        "summary"
      ],
      "metadata": {
        "colab": {
          "base_uri": "https://localhost:8080/"
        },
        "id": "slH0szhYFkXg",
        "outputId": "62d66629-7d44-417f-8dc7-1da7d10020e8"
      },
      "execution_count": 21,
      "outputs": [
        {
          "output_type": "stream",
          "name": "stdout",
          "text": [
            "Model: \"ResNet\"\n",
            "__________________________________________________________________________________________________\n",
            " Layer (type)                   Output Shape         Param #     Connected to                     \n",
            "==================================================================================================\n",
            " input_1 (InputLayer)           [(None, 64, 64, 1)]  0           []                               \n",
            "                                                                                                  \n",
            " zero_padding2d (ZeroPadding2D)  (None, 70, 70, 1)   0           ['input_1[0][0]']                \n",
            "                                                                                                  \n",
            " conv1 (Conv2D)                 (None, 32, 32, 64)   3200        ['zero_padding2d[0][0]']         \n",
            "                                                                                                  \n",
            " bn_conv1 (BatchNormalization)  (None, 32, 32, 64)   256         ['conv1[0][0]']                  \n",
            "                                                                                                  \n",
            " activation (Activation)        (None, 32, 32, 64)   0           ['bn_conv1[0][0]']               \n",
            "                                                                                                  \n",
            " max_pooling2d (MaxPooling2D)   (None, 15, 15, 64)   0           ['activation[0][0]']             \n",
            "                                                                                                  \n",
            " res2a_branch2a (Conv2D)        (None, 15, 15, 64)   4160        ['max_pooling2d[0][0]']          \n",
            "                                                                                                  \n",
            " bn2a_branch2a (BatchNormalizat  (None, 15, 15, 64)  256         ['res2a_branch2a[0][0]']         \n",
            " ion)                                                                                             \n",
            "                                                                                                  \n",
            " activation_1 (Activation)      (None, 15, 15, 64)   0           ['bn2a_branch2a[0][0]']          \n",
            "                                                                                                  \n",
            " res2a_branch2b (Conv2D)        (None, 15, 15, 64)   36928       ['activation_1[0][0]']           \n",
            "                                                                                                  \n",
            " bn2a_branch2b (BatchNormalizat  (None, 15, 15, 64)  256         ['res2a_branch2b[0][0]']         \n",
            " ion)                                                                                             \n",
            "                                                                                                  \n",
            " activation_2 (Activation)      (None, 15, 15, 64)   0           ['bn2a_branch2b[0][0]']          \n",
            "                                                                                                  \n",
            " res2a_branch2c (Conv2D)        (None, 15, 15, 256)  16640       ['activation_2[0][0]']           \n",
            "                                                                                                  \n",
            " res2a_branch1 (Conv2D)         (None, 15, 15, 256)  16640       ['max_pooling2d[0][0]']          \n",
            "                                                                                                  \n",
            " bn2a_branch2c (BatchNormalizat  (None, 15, 15, 256)  1024       ['res2a_branch2c[0][0]']         \n",
            " ion)                                                                                             \n",
            "                                                                                                  \n",
            " bn2a_branch1 (BatchNormalizati  (None, 15, 15, 256)  1024       ['res2a_branch1[0][0]']          \n",
            " on)                                                                                              \n",
            "                                                                                                  \n",
            " add (Add)                      (None, 15, 15, 256)  0           ['bn2a_branch2c[0][0]',          \n",
            "                                                                  'bn2a_branch1[0][0]']           \n",
            "                                                                                                  \n",
            " activation_3 (Activation)      (None, 15, 15, 256)  0           ['add[0][0]']                    \n",
            "                                                                                                  \n",
            " res2b_branch2a (Conv2D)        (None, 15, 15, 64)   16448       ['activation_3[0][0]']           \n",
            "                                                                                                  \n",
            " bn2b_branch2a (BatchNormalizat  (None, 15, 15, 64)  256         ['res2b_branch2a[0][0]']         \n",
            " ion)                                                                                             \n",
            "                                                                                                  \n",
            " activation_4 (Activation)      (None, 15, 15, 64)   0           ['bn2b_branch2a[0][0]']          \n",
            "                                                                                                  \n",
            " res2b_branch2b (Conv2D)        (None, 15, 15, 64)   36928       ['activation_4[0][0]']           \n",
            "                                                                                                  \n",
            " bn2b_branch2b (BatchNormalizat  (None, 15, 15, 64)  256         ['res2b_branch2b[0][0]']         \n",
            " ion)                                                                                             \n",
            "                                                                                                  \n",
            " activation_5 (Activation)      (None, 15, 15, 64)   0           ['bn2b_branch2b[0][0]']          \n",
            "                                                                                                  \n",
            " res2b_branch2c (Conv2D)        (None, 15, 15, 256)  16640       ['activation_5[0][0]']           \n",
            "                                                                                                  \n",
            " bn2b_branch2c (BatchNormalizat  (None, 15, 15, 256)  1024       ['res2b_branch2c[0][0]']         \n",
            " ion)                                                                                             \n",
            "                                                                                                  \n",
            " add_1 (Add)                    (None, 15, 15, 256)  0           ['bn2b_branch2c[0][0]',          \n",
            "                                                                  'activation_3[0][0]']           \n",
            "                                                                                                  \n",
            " activation_6 (Activation)      (None, 15, 15, 256)  0           ['add_1[0][0]']                  \n",
            "                                                                                                  \n",
            " res2c_branch2a (Conv2D)        (None, 15, 15, 64)   16448       ['activation_6[0][0]']           \n",
            "                                                                                                  \n",
            " bn2c_branch2a (BatchNormalizat  (None, 15, 15, 64)  256         ['res2c_branch2a[0][0]']         \n",
            " ion)                                                                                             \n",
            "                                                                                                  \n",
            " activation_7 (Activation)      (None, 15, 15, 64)   0           ['bn2c_branch2a[0][0]']          \n",
            "                                                                                                  \n",
            " res2c_branch2b (Conv2D)        (None, 15, 15, 64)   36928       ['activation_7[0][0]']           \n",
            "                                                                                                  \n",
            " bn2c_branch2b (BatchNormalizat  (None, 15, 15, 64)  256         ['res2c_branch2b[0][0]']         \n",
            " ion)                                                                                             \n",
            "                                                                                                  \n",
            " activation_8 (Activation)      (None, 15, 15, 64)   0           ['bn2c_branch2b[0][0]']          \n",
            "                                                                                                  \n",
            " res2c_branch2c (Conv2D)        (None, 15, 15, 256)  16640       ['activation_8[0][0]']           \n",
            "                                                                                                  \n",
            " bn2c_branch2c (BatchNormalizat  (None, 15, 15, 256)  1024       ['res2c_branch2c[0][0]']         \n",
            " ion)                                                                                             \n",
            "                                                                                                  \n",
            " add_2 (Add)                    (None, 15, 15, 256)  0           ['bn2c_branch2c[0][0]',          \n",
            "                                                                  'activation_6[0][0]']           \n",
            "                                                                                                  \n",
            " activation_9 (Activation)      (None, 15, 15, 256)  0           ['add_2[0][0]']                  \n",
            "                                                                                                  \n",
            " res2d_branch2a (Conv2D)        (None, 15, 15, 64)   16448       ['activation_9[0][0]']           \n",
            "                                                                                                  \n",
            " bn2d_branch2a (BatchNormalizat  (None, 15, 15, 64)  256         ['res2d_branch2a[0][0]']         \n",
            " ion)                                                                                             \n",
            "                                                                                                  \n",
            " activation_10 (Activation)     (None, 15, 15, 64)   0           ['bn2d_branch2a[0][0]']          \n",
            "                                                                                                  \n",
            " res2d_branch2b (Conv2D)        (None, 15, 15, 64)   36928       ['activation_10[0][0]']          \n",
            "                                                                                                  \n",
            " bn2d_branch2b (BatchNormalizat  (None, 15, 15, 64)  256         ['res2d_branch2b[0][0]']         \n",
            " ion)                                                                                             \n",
            "                                                                                                  \n",
            " activation_11 (Activation)     (None, 15, 15, 64)   0           ['bn2d_branch2b[0][0]']          \n",
            "                                                                                                  \n",
            " res2d_branch2c (Conv2D)        (None, 15, 15, 256)  16640       ['activation_11[0][0]']          \n",
            "                                                                                                  \n",
            " bn2d_branch2c (BatchNormalizat  (None, 15, 15, 256)  1024       ['res2d_branch2c[0][0]']         \n",
            " ion)                                                                                             \n",
            "                                                                                                  \n",
            " add_3 (Add)                    (None, 15, 15, 256)  0           ['bn2d_branch2c[0][0]',          \n",
            "                                                                  'activation_9[0][0]']           \n",
            "                                                                                                  \n",
            " activation_12 (Activation)     (None, 15, 15, 256)  0           ['add_3[0][0]']                  \n",
            "                                                                                                  \n",
            " res3a_branch2a (Conv2D)        (None, 8, 8, 128)    32896       ['activation_12[0][0]']          \n",
            "                                                                                                  \n",
            " bn3a_branch2a (BatchNormalizat  (None, 8, 8, 128)   512         ['res3a_branch2a[0][0]']         \n",
            " ion)                                                                                             \n",
            "                                                                                                  \n",
            " activation_13 (Activation)     (None, 8, 8, 128)    0           ['bn3a_branch2a[0][0]']          \n",
            "                                                                                                  \n",
            " res3a_branch2b (Conv2D)        (None, 8, 8, 128)    147584      ['activation_13[0][0]']          \n",
            "                                                                                                  \n",
            " bn3a_branch2b (BatchNormalizat  (None, 8, 8, 128)   512         ['res3a_branch2b[0][0]']         \n",
            " ion)                                                                                             \n",
            "                                                                                                  \n",
            " activation_14 (Activation)     (None, 8, 8, 128)    0           ['bn3a_branch2b[0][0]']          \n",
            "                                                                                                  \n",
            " res3a_branch2c (Conv2D)        (None, 8, 8, 512)    66048       ['activation_14[0][0]']          \n",
            "                                                                                                  \n",
            " res3a_branch1 (Conv2D)         (None, 8, 8, 512)    131584      ['activation_12[0][0]']          \n",
            "                                                                                                  \n",
            " bn3a_branch2c (BatchNormalizat  (None, 8, 8, 512)   2048        ['res3a_branch2c[0][0]']         \n",
            " ion)                                                                                             \n",
            "                                                                                                  \n",
            " bn3a_branch1 (BatchNormalizati  (None, 8, 8, 512)   2048        ['res3a_branch1[0][0]']          \n",
            " on)                                                                                              \n",
            "                                                                                                  \n",
            " add_4 (Add)                    (None, 8, 8, 512)    0           ['bn3a_branch2c[0][0]',          \n",
            "                                                                  'bn3a_branch1[0][0]']           \n",
            "                                                                                                  \n",
            " activation_15 (Activation)     (None, 8, 8, 512)    0           ['add_4[0][0]']                  \n",
            "                                                                                                  \n",
            " res3b_branch2a (Conv2D)        (None, 8, 8, 128)    65664       ['activation_15[0][0]']          \n",
            "                                                                                                  \n",
            " bn3b_branch2a (BatchNormalizat  (None, 8, 8, 128)   512         ['res3b_branch2a[0][0]']         \n",
            " ion)                                                                                             \n",
            "                                                                                                  \n",
            " activation_16 (Activation)     (None, 8, 8, 128)    0           ['bn3b_branch2a[0][0]']          \n",
            "                                                                                                  \n",
            " res3b_branch2b (Conv2D)        (None, 8, 8, 128)    147584      ['activation_16[0][0]']          \n",
            "                                                                                                  \n",
            " bn3b_branch2b (BatchNormalizat  (None, 8, 8, 128)   512         ['res3b_branch2b[0][0]']         \n",
            " ion)                                                                                             \n",
            "                                                                                                  \n",
            " activation_17 (Activation)     (None, 8, 8, 128)    0           ['bn3b_branch2b[0][0]']          \n",
            "                                                                                                  \n",
            " res3b_branch2c (Conv2D)        (None, 8, 8, 512)    66048       ['activation_17[0][0]']          \n",
            "                                                                                                  \n",
            " bn3b_branch2c (BatchNormalizat  (None, 8, 8, 512)   2048        ['res3b_branch2c[0][0]']         \n",
            " ion)                                                                                             \n",
            "                                                                                                  \n",
            " add_5 (Add)                    (None, 8, 8, 512)    0           ['bn3b_branch2c[0][0]',          \n",
            "                                                                  'activation_15[0][0]']          \n",
            "                                                                                                  \n",
            " activation_18 (Activation)     (None, 8, 8, 512)    0           ['add_5[0][0]']                  \n",
            "                                                                                                  \n",
            " res4a_branch2a (Conv2D)        (None, 4, 4, 256)    131328      ['activation_18[0][0]']          \n",
            "                                                                                                  \n",
            " bn4a_branch2a (BatchNormalizat  (None, 4, 4, 256)   1024        ['res4a_branch2a[0][0]']         \n",
            " ion)                                                                                             \n",
            "                                                                                                  \n",
            " activation_19 (Activation)     (None, 4, 4, 256)    0           ['bn4a_branch2a[0][0]']          \n",
            "                                                                                                  \n",
            " res4a_branch2b (Conv2D)        (None, 4, 4, 256)    590080      ['activation_19[0][0]']          \n",
            "                                                                                                  \n",
            " bn4a_branch2b (BatchNormalizat  (None, 4, 4, 256)   1024        ['res4a_branch2b[0][0]']         \n",
            " ion)                                                                                             \n",
            "                                                                                                  \n",
            " activation_20 (Activation)     (None, 4, 4, 256)    0           ['bn4a_branch2b[0][0]']          \n",
            "                                                                                                  \n",
            " res4a_branch2c (Conv2D)        (None, 4, 4, 1024)   263168      ['activation_20[0][0]']          \n",
            "                                                                                                  \n",
            " res4a_branch1 (Conv2D)         (None, 4, 4, 1024)   525312      ['activation_18[0][0]']          \n",
            "                                                                                                  \n",
            " bn4a_branch2c (BatchNormalizat  (None, 4, 4, 1024)  4096        ['res4a_branch2c[0][0]']         \n",
            " ion)                                                                                             \n",
            "                                                                                                  \n",
            " bn4a_branch1 (BatchNormalizati  (None, 4, 4, 1024)  4096        ['res4a_branch1[0][0]']          \n",
            " on)                                                                                              \n",
            "                                                                                                  \n",
            " add_6 (Add)                    (None, 4, 4, 1024)   0           ['bn4a_branch2c[0][0]',          \n",
            "                                                                  'bn4a_branch1[0][0]']           \n",
            "                                                                                                  \n",
            " activation_21 (Activation)     (None, 4, 4, 1024)   0           ['add_6[0][0]']                  \n",
            "                                                                                                  \n",
            " res4b_branch2a (Conv2D)        (None, 4, 4, 256)    262400      ['activation_21[0][0]']          \n",
            "                                                                                                  \n",
            " bn4b_branch2a (BatchNormalizat  (None, 4, 4, 256)   1024        ['res4b_branch2a[0][0]']         \n",
            " ion)                                                                                             \n",
            "                                                                                                  \n",
            " activation_22 (Activation)     (None, 4, 4, 256)    0           ['bn4b_branch2a[0][0]']          \n",
            "                                                                                                  \n",
            " res4b_branch2b (Conv2D)        (None, 4, 4, 256)    590080      ['activation_22[0][0]']          \n",
            "                                                                                                  \n",
            " bn4b_branch2b (BatchNormalizat  (None, 4, 4, 256)   1024        ['res4b_branch2b[0][0]']         \n",
            " ion)                                                                                             \n",
            "                                                                                                  \n",
            " activation_23 (Activation)     (None, 4, 4, 256)    0           ['bn4b_branch2b[0][0]']          \n",
            "                                                                                                  \n",
            " res4b_branch2c (Conv2D)        (None, 4, 4, 1024)   263168      ['activation_23[0][0]']          \n",
            "                                                                                                  \n",
            " bn4b_branch2c (BatchNormalizat  (None, 4, 4, 1024)  4096        ['res4b_branch2c[0][0]']         \n",
            " ion)                                                                                             \n",
            "                                                                                                  \n",
            " add_7 (Add)                    (None, 4, 4, 1024)   0           ['bn4b_branch2c[0][0]',          \n",
            "                                                                  'activation_21[0][0]']          \n",
            "                                                                                                  \n",
            " activation_24 (Activation)     (None, 4, 4, 1024)   0           ['add_7[0][0]']                  \n",
            "                                                                                                  \n",
            " average_pooling2d (AveragePool  (None, 2, 2, 1024)  0           ['activation_24[0][0]']          \n",
            " ing2D)                                                                                           \n",
            "                                                                                                  \n",
            " flatten (Flatten)              (None, 4096)         0           ['average_pooling2d[0][0]']      \n",
            "                                                                                                  \n",
            " fc2 (Dense)                    (None, 2)            8194        ['flatten[0][0]']                \n",
            "                                                                                                  \n",
            "==================================================================================================\n",
            "Total params: 3,610,754\n",
            "Trainable params: 3,594,754\n",
            "Non-trainable params: 16,000\n",
            "__________________________________________________________________________________________________\n"
          ]
        }
      ]
    },
    {
      "cell_type": "code",
      "source": [
        "model = get_model()\n",
        "\n",
        "# early stopping callback function\n",
        "early_stop = keras.callbacks.EarlyStopping(\n",
        "    monitor=\"val_loss\",\n",
        "    patience=10, mode=\"min\",\n",
        "    restore_best_weights=True,\n",
        ")\n",
        "\n",
        "# learning rate reduction\n",
        "lr_reduce = keras.callbacks.ReduceLROnPlateau(\n",
        "    monitor='val_loss', \n",
        "    factor=0.1, \n",
        "    patience=5, verbose=1, mode='min'\n",
        ")\n",
        "\n",
        "# training model\n",
        "history = model.fit(\n",
        "    x_train, y_train,\n",
        "    batch_size = 128,\n",
        "    validation_data=(x_val, y_val),\n",
        "    epochs=100,\n",
        "    callbacks = [early_stop, lr_reduce]\n",
        ")"
      ],
      "metadata": {
        "colab": {
          "base_uri": "https://localhost:8080/"
        },
        "id": "izCn9DOWQfPZ",
        "outputId": "ee9840ae-7c03-4693-9e71-67983dd7f29c"
      },
      "execution_count": 22,
      "outputs": [
        {
          "output_type": "stream",
          "name": "stdout",
          "text": [
            "Epoch 1/100\n",
            "37/37 [==============================] - 7s 108ms/step - loss: 1.1811 - accuracy: 0.6485 - val_loss: 20.7686 - val_accuracy: 0.6175 - lr: 0.0010\n",
            "Epoch 2/100\n",
            "37/37 [==============================] - 3s 91ms/step - loss: 0.4375 - accuracy: 0.8012 - val_loss: 2.4147 - val_accuracy: 0.6116 - lr: 0.0010\n",
            "Epoch 3/100\n",
            "37/37 [==============================] - 3s 92ms/step - loss: 0.2622 - accuracy: 0.9005 - val_loss: 1.5497 - val_accuracy: 0.6245 - lr: 0.0010\n",
            "Epoch 4/100\n",
            "37/37 [==============================] - 3s 92ms/step - loss: 0.1660 - accuracy: 0.9340 - val_loss: 1.3155 - val_accuracy: 0.6315 - lr: 0.0010\n",
            "Epoch 5/100\n",
            "37/37 [==============================] - 3s 93ms/step - loss: 0.1472 - accuracy: 0.9438 - val_loss: 0.5795 - val_accuracy: 0.7351 - lr: 0.0010\n",
            "Epoch 6/100\n",
            "37/37 [==============================] - 3s 92ms/step - loss: 0.0832 - accuracy: 0.9684 - val_loss: 0.6561 - val_accuracy: 0.7500 - lr: 0.0010\n",
            "Epoch 7/100\n",
            "37/37 [==============================] - 3s 93ms/step - loss: 0.0657 - accuracy: 0.9767 - val_loss: 0.5686 - val_accuracy: 0.8137 - lr: 0.0010\n",
            "Epoch 8/100\n",
            "37/37 [==============================] - 3s 94ms/step - loss: 0.0458 - accuracy: 0.9836 - val_loss: 0.8751 - val_accuracy: 0.7659 - lr: 0.0010\n",
            "Epoch 9/100\n",
            "37/37 [==============================] - 3s 91ms/step - loss: 0.0962 - accuracy: 0.9665 - val_loss: 2.1435 - val_accuracy: 0.7151 - lr: 0.0010\n",
            "Epoch 10/100\n",
            "37/37 [==============================] - 3s 90ms/step - loss: 0.0723 - accuracy: 0.9729 - val_loss: 1.6110 - val_accuracy: 0.7669 - lr: 0.0010\n",
            "Epoch 11/100\n",
            "37/37 [==============================] - 3s 89ms/step - loss: 0.0626 - accuracy: 0.9778 - val_loss: 1.3205 - val_accuracy: 0.7281 - lr: 0.0010\n",
            "Epoch 12/100\n",
            "36/37 [============================>.] - ETA: 0s - loss: 0.0365 - accuracy: 0.9865\n",
            "Epoch 12: ReduceLROnPlateau reducing learning rate to 0.00010000000474974513.\n",
            "37/37 [==============================] - 3s 90ms/step - loss: 0.0361 - accuracy: 0.9868 - val_loss: 0.7797 - val_accuracy: 0.8327 - lr: 0.0010\n",
            "Epoch 13/100\n",
            "37/37 [==============================] - 3s 91ms/step - loss: 0.0224 - accuracy: 0.9938 - val_loss: 0.2871 - val_accuracy: 0.9094 - lr: 1.0000e-04\n",
            "Epoch 14/100\n",
            "37/37 [==============================] - 3s 91ms/step - loss: 0.0029 - accuracy: 1.0000 - val_loss: 0.1986 - val_accuracy: 0.9353 - lr: 1.0000e-04\n",
            "Epoch 15/100\n",
            "37/37 [==============================] - 3s 90ms/step - loss: 0.0015 - accuracy: 1.0000 - val_loss: 0.1679 - val_accuracy: 0.9472 - lr: 1.0000e-04\n",
            "Epoch 16/100\n",
            "37/37 [==============================] - 3s 93ms/step - loss: 0.0013 - accuracy: 1.0000 - val_loss: 0.1592 - val_accuracy: 0.9502 - lr: 1.0000e-04\n",
            "Epoch 17/100\n",
            "37/37 [==============================] - 3s 90ms/step - loss: 0.0011 - accuracy: 1.0000 - val_loss: 0.1579 - val_accuracy: 0.9542 - lr: 1.0000e-04\n",
            "Epoch 18/100\n",
            "37/37 [==============================] - 3s 89ms/step - loss: 8.7667e-04 - accuracy: 1.0000 - val_loss: 0.1580 - val_accuracy: 0.9552 - lr: 1.0000e-04\n",
            "Epoch 19/100\n",
            "37/37 [==============================] - 3s 88ms/step - loss: 0.0012 - accuracy: 0.9998 - val_loss: 0.1593 - val_accuracy: 0.9572 - lr: 1.0000e-04\n",
            "Epoch 20/100\n",
            "37/37 [==============================] - 3s 88ms/step - loss: 6.4868e-04 - accuracy: 1.0000 - val_loss: 0.1603 - val_accuracy: 0.9582 - lr: 1.0000e-04\n",
            "Epoch 21/100\n",
            "37/37 [==============================] - 3s 88ms/step - loss: 5.3482e-04 - accuracy: 1.0000 - val_loss: 0.1628 - val_accuracy: 0.9572 - lr: 1.0000e-04\n",
            "Epoch 22/100\n",
            "36/37 [============================>.] - ETA: 0s - loss: 6.1677e-04 - accuracy: 1.0000\n",
            "Epoch 22: ReduceLROnPlateau reducing learning rate to 1.0000000474974514e-05.\n",
            "37/37 [==============================] - 3s 89ms/step - loss: 6.1074e-04 - accuracy: 1.0000 - val_loss: 0.1618 - val_accuracy: 0.9582 - lr: 1.0000e-04\n",
            "Epoch 23/100\n",
            "37/37 [==============================] - 3s 88ms/step - loss: 5.2484e-04 - accuracy: 1.0000 - val_loss: 0.1627 - val_accuracy: 0.9582 - lr: 1.0000e-05\n",
            "Epoch 24/100\n",
            "37/37 [==============================] - 3s 89ms/step - loss: 6.7403e-04 - accuracy: 1.0000 - val_loss: 0.1629 - val_accuracy: 0.9582 - lr: 1.0000e-05\n",
            "Epoch 25/100\n",
            "37/37 [==============================] - 3s 89ms/step - loss: 4.7714e-04 - accuracy: 1.0000 - val_loss: 0.1633 - val_accuracy: 0.9582 - lr: 1.0000e-05\n",
            "Epoch 26/100\n",
            "37/37 [==============================] - 3s 89ms/step - loss: 4.2212e-04 - accuracy: 1.0000 - val_loss: 0.1632 - val_accuracy: 0.9582 - lr: 1.0000e-05\n",
            "Epoch 27/100\n",
            "36/37 [============================>.] - ETA: 0s - loss: 5.0633e-04 - accuracy: 1.0000\n",
            "Epoch 27: ReduceLROnPlateau reducing learning rate to 1.0000000656873453e-06.\n",
            "37/37 [==============================] - 3s 91ms/step - loss: 5.1905e-04 - accuracy: 1.0000 - val_loss: 0.1633 - val_accuracy: 0.9582 - lr: 1.0000e-05\n"
          ]
        }
      ]
    },
    {
      "cell_type": "code",
      "source": [
        "loss = history.history['loss']\n",
        "val_loss = history.history['val_loss']\n",
        "\n",
        "epochs = range(len(loss))\n",
        "\n",
        "plt.figure(figsize=(12,8))\n",
        "\n",
        "plt.plot(epochs, loss, 'r', label='Training Loss')\n",
        "plt.plot(epochs, val_loss, 'b', label='Validation Loss')\n",
        "plt.title('Training and validation loss')\n",
        "plt.xlabel('No. of Epochs')\n",
        "plt.ylabel('Loss')\n",
        "plt.legend()\n",
        "\n",
        "#plt.savefig('/content'+'/Training and Validation Loss.png',dpi=300) ##########\n",
        "\n",
        "plt.show()"
      ],
      "metadata": {
        "colab": {
          "base_uri": "https://localhost:8080/",
          "height": 513
        },
        "id": "LXexNXv5SRXs",
        "outputId": "08caa6fc-44c0-43e9-bac9-cd191e6992e3"
      },
      "execution_count": 23,
      "outputs": [
        {
          "output_type": "display_data",
          "data": {
            "text/plain": [
              "<Figure size 864x576 with 1 Axes>"
            ],
            "image/png": "[encoded data removed]"
          },
          "metadata": {
            "needs_background": "light"
          }
        }
      ]
    },
    {
      "cell_type": "code",
      "source": [
        "# result of the model training\n",
        "\n",
        "accuracy = history.history['accuracy']\n",
        "val_accuracy = history.history['val_accuracy']\n",
        "\n",
        "epochs = range(len(loss))\n",
        "\n",
        "plt.figure(figsize=(12,8))\n",
        "\n",
        "plt.plot(epochs, accuracy, 'r', label='Training Accuracy')\n",
        "plt.plot(epochs, val_accuracy, 'b', label='Validation Accuracy')\n",
        "plt.title('Training and validation Accuracy')\n",
        "plt.xlabel('No. of Epochs')\n",
        "plt.ylabel('Accuracy')\n",
        "plt.legend()\n",
        "\n",
        "#plt.savefig('/content'+'/Training and Validation Accuracy.png',dpi=300) #########\n",
        "\n",
        "plt.show()"
      ],
      "metadata": {
        "colab": {
          "base_uri": "https://localhost:8080/",
          "height": 513
        },
        "id": "oGupFcbVT-9s",
        "outputId": "2acbb311-0575-460c-8061-ae1bc7e05241"
      },
      "execution_count": 24,
      "outputs": [
        {
          "output_type": "display_data",
          "data": {
            "text/plain": [
              "<Figure size 864x576 with 1 Axes>"
            ],
            "image/png": "[encoded data removed]"
          },
          "metadata": {
            "needs_background": "light"
          }
        }
      ]
    },
    {
      "cell_type": "code",
      "source": [
        "# predicting classes for test set\n",
        "\n",
        "yhat_probs = model.predict(x_test)\n",
        "yhat_classes = np.argmax(yhat_probs,axis=1)\n",
        "yhat_classes"
      ],
      "metadata": {
        "colab": {
          "base_uri": "https://localhost:8080/"
        },
        "id": "QcP9uTEmZSeA",
        "outputId": "3290b65f-def1-4b82-95ce-3576f9cd290c"
      },
      "execution_count": 29,
      "outputs": [
        {
          "output_type": "execute_result",
          "data": {
            "text/plain": [
              "array([0, 0, 0, ..., 0, 1, 0])"
            ]
          },
          "metadata": {},
          "execution_count": 29
        }
      ]
    },
    {
      "cell_type": "code",
      "source": [
        "# converting test set to classes\n",
        "y_test_class = np.argmax(y_test,axis=1)\n",
        "y_test_class"
      ],
      "metadata": {
        "colab": {
          "base_uri": "https://localhost:8080/"
        },
        "id": "BZCaVffsaZZL",
        "outputId": "c9e6e2c9-5015-439e-f31c-aba26166c81a"
      },
      "execution_count": 31,
      "outputs": [
        {
          "output_type": "execute_result",
          "data": {
            "text/plain": [
              "array([0, 0, 0, ..., 0, 1, 0])"
            ]
          },
          "metadata": {},
          "execution_count": 31
        }
      ]
    },
    {
      "cell_type": "code",
      "source": [
        "# model evaluation by f1 score\n",
        "\n",
        "f1 = f1_score(y_test_class, yhat_classes)\n",
        "print(\"F1 accuracy of the model for test set: \", f1)"
      ],
      "metadata": {
        "colab": {
          "base_uri": "https://localhost:8080/"
        },
        "id": "szbwnTdtavDK",
        "outputId": "565155f5-0e2e-4979-d501-f1f76e743dc7"
      },
      "execution_count": 32,
      "outputs": [
        {
          "output_type": "stream",
          "name": "stdout",
          "text": [
            "F1 accuracy of the model for test set:  0.9341772151898735\n"
          ]
        }
      ]
    },
    {
      "cell_type": "code",
      "source": [
        "# plotting confusion matrix\n",
        "\n",
        "cm = confusion_matrix(y_test_class, yhat_classes)\n",
        "\n",
        "ax = plt.subplot(1,1,1)\n",
        "sns.heatmap(cm, annot=True, ax = ax );\n",
        "\n",
        "# labels and titles\n",
        "ax.set_xlabel('Predicted labels');ax.set_ylabel('True labels'); \n",
        "ax.set_title('Confusion Matrix');\n",
        "ax.xaxis.set_ticklabels(['Normal', 'Abnormal']); \n",
        "ax.yaxis.set_ticklabels(['Normal', 'Abnormal']);\n",
        "\n",
        "plt.show()"
      ],
      "metadata": {
        "colab": {
          "base_uri": "https://localhost:8080/",
          "height": 295
        },
        "id": "QteBWP6cbJqm",
        "outputId": "ae2f5601-fed9-4f3a-9269-dc345d995a6d"
      },
      "execution_count": 35,
      "outputs": [
        {
          "output_type": "display_data",
          "data": {
            "text/plain": [
              "<Figure size 432x288 with 2 Axes>"
            ],
            "image/png": "[encoded data removed]"
          },
          "metadata": {
            "needs_background": "light"
          }
        }
      ]
    },
    {
      "cell_type": "code",
      "source": [
        "!pip install -q pyyaml h5py\n",
        "\n",
        "# saving model\n",
        "model.save('model.h5')"
      ],
      "metadata": {
        "id": "VWIFqgjNtCPX"
      },
      "execution_count": null,
      "outputs": []
    }
  ]
}